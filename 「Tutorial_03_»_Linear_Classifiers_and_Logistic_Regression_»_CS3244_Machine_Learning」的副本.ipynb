{
  "nbformat": 4,
  "nbformat_minor": 0,
  "metadata": {
    "colab": {
      "name": "「Tutorial 03 » Linear Classifiers and Logistic Regression » CS3244 Machine Learning」的副本",
      "provenance": [],
      "collapsed_sections": [],
      "include_colab_link": true
    },
    "kernelspec": {
      "display_name": "Python 3",
      "language": "python",
      "name": "python3"
    },
    "language_info": {
      "codemirror_mode": {
        "name": "ipython",
        "version": 3
      },
      "file_extension": ".py",
      "mimetype": "text/x-python",
      "name": "python",
      "nbconvert_exporter": "python",
      "pygments_lexer": "ipython3",
      "version": "3.7.3"
    }
  },
  "cells": [
    {
      "cell_type": "markdown",
      "metadata": {
        "id": "view-in-github",
        "colab_type": "text"
      },
      "source": [
        "<a href=\"https://colab.research.google.com/github/wangqinNick/Deep-Learning-Tensorflow/blob/master/%E3%80%8CTutorial_03_%C2%BB_Linear_Classifiers_and_Logistic_Regression_%C2%BB_CS3244_Machine_Learning%E3%80%8D%E7%9A%84%E5%89%AF%E6%9C%AC.ipynb\" target=\"_parent\"><img src=\"https://colab.research.google.com/assets/colab-badge.svg\" alt=\"Open In Colab\"/></a>"
      ]
    },
    {
      "cell_type": "markdown",
      "metadata": {
        "id": "oYcn7eSDKw9e"
      },
      "source": [
        "Available at http://www.comp.nus.edu.sg/~cs3244/AY2122S1/03.tutorial-colab.html"
      ]
    },
    {
      "cell_type": "markdown",
      "metadata": {
        "id": "PEnx5f0lsUZ1"
      },
      "source": [
        "![Machine Learning](https://www.comp.nus.edu.sg/~cs3244/AY2122S1/header.png)"
      ]
    },
    {
      "cell_type": "markdown",
      "metadata": {
        "id": "ihj3XGQbSGT8"
      },
      "source": [
        "_Welcome to the Tutorial 03 Python notebook._ This week we will learn about classification algorithms.  We learn about **Linear Classifiers** and **Logistic Regression** and will be reviewing this material in the third tutorial.\n",
        "\n",
        "\n",
        "In this notebook, we will go through different programming exercise and _mathematical proofs_. In the tutorial, the programming exercises involve using Logistic Regression from SciKit Learn (a cornerstone traditional ML toolkit, or `sklearn`)."
      ]
    },
    {
      "cell_type": "markdown",
      "metadata": {
        "id": "MJQWkP0znw6B"
      },
      "source": [
        "## 1 Linear Classifiers"
      ]
    },
    {
      "cell_type": "markdown",
      "metadata": {
        "id": "OjFQ5yw1v0pc"
      },
      "source": [
        "\n",
        "\n",
        "From its name we understand that it classifies items using a line, or more generally for $k$ dimensional data, a hyperplane with $k-1$ dimensions. In simpler terms, if we have data corresponding to two or more classes, the linear classifier puts a straight, boundary line between them to differentiate the classes from each other.\n",
        "\n",
        "Let's examine the diagram below.  This is a two-class problem as we can see there are two types of data points in the diagram, white circles and black circles; i.e., $y \\in \\{black,white\\}$.  So we want to build a classifier (put a boundary line) between these two classes. We can see three straight lines, $H_1, H_2, H_3$ dividing the data points different way. From these three, $H_1$ & $H_2$ both classifies the data points correctly, but $H_3$ does not. These are our linear classifiers. In this week, we will learn how to draw such straight lines to maximize the accuracy of our classification on our data points $X$.\n",
        "<div align=\"center\">\n",
        "<img src=\"https://upload.wikimedia.org/wikipedia/commons/2/20/Svm_separating_hyperplanes.png\" width=300 />\n",
        " </div>\n",
        " \n",
        " _By Cyc [CC BY 2.0](https://creativecommons.org/licenses/by/2.0), via Wikimedia Commons._\n"
      ]
    },
    {
      "cell_type": "markdown",
      "metadata": {
        "id": "iM4zJPwan82H"
      },
      "source": [
        "**Your Turn (Question 1):** Which of the three lines, classifies the data points accurately?\n",
        "\n",
        "Choose from: $H_1$, $H_2$, $H_3$"
      ]
    },
    {
      "cell_type": "markdown",
      "metadata": {
        "id": "khunF_qKedV5"
      },
      "source": [
        "**Your Turn (Question 2)**: Which machine learning paradiam does logistic regression belongs to?\n",
        "\n",
        "Choose from: _Supervised Learning,Unsupervised Learning, Reinforcement Learning, None of the above_\n",
        "\n",
        "**Supervised Learning**"
      ]
    },
    {
      "cell_type": "markdown",
      "metadata": {
        "id": "WJf2QKOledV5"
      },
      "source": [
        "**Your Turn (Question 3)**:Which of the following function is not linear separable?\n",
        "\n",
        "\n",
        "$x_1$ | $x_2$ | AND gate output | OR gate output | NOR gate output | XOR gate output\n",
        ":---:|:---:|:---:|:---:|:---:|:---:\n",
        "1|1|1|1|-1|-1\n",
        "1|-1|-1|1|-1|1\n",
        "-1|1|-1|1|-1|1\n",
        "-1|-1|-1|-1|1|-1\n",
        "\n",
        "\n",
        "Choose from: _AND gate, OR gate, NOR gate, XOR gate_\n",
        "\n",
        "**AND， XOR**\n"
      ]
    },
    {
      "cell_type": "markdown",
      "metadata": {
        "id": "G7rivzTPedV6"
      },
      "source": [
        "**Your Turn (Question 4)**: Which of the following methods do we use to best fit the data in Logistic Regression?\n",
        "\n",
        "_Choose from: Maximum Likelihood, Least Square Error, Jaccard distance, None of the above_\n",
        "\n",
        "**None of the above**"
      ]
    },
    {
      "cell_type": "markdown",
      "metadata": {
        "id": "MFj1R1jJOqP2"
      },
      "source": [
        "## 2 Programming : Logistic Regression from Sklearn"
      ]
    },
    {
      "cell_type": "markdown",
      "metadata": {
        "id": "-jVlpyGt2N1D"
      },
      "source": [
        "Let's do some simple hands-on exercise on _Logistic regression_.  We'll use the full version of the logistic regression that we would like you execute. \n",
        "\n",
        "We'll again use a dataset from the popular [UCI dataset repository](https://archive.ics.uci.edu/ml/index.php); in particular, the [Iris](https://archive.ics.uci.edu/ml/datasets/iris) dataset. This is perhaps the best known database to be found in the pattern recognition literature.  The data set contains 3 classes of 50 instances each, where each class refers to a type of iris plant. \n",
        "\n",
        "We'll load in the data, take a look around and train a logistic regression classifier on it using `sklearn`. \n",
        "\n",
        "Feel free to look at other features and change the _hyperparameter_ values – the code is provided to you for your studying and experimentation.\n"
      ]
    },
    {
      "cell_type": "markdown",
      "metadata": {
        "id": "0e52vswjK_6s"
      },
      "source": [
        "### .a Load the Iris dataset"
      ]
    },
    {
      "cell_type": "code",
      "metadata": {
        "id": "I139zWAyKk5E"
      },
      "source": [
        "# Do some standard library imports for data science and machine learning\n",
        "import numpy as np\n",
        "import math\n",
        "import matplotlib.pyplot as plt\n",
        "from sklearn import datasets\n",
        "import pandas as pd\n",
        "from sklearn.linear_model import LogisticRegression"
      ],
      "execution_count": 130,
      "outputs": []
    },
    {
      "cell_type": "markdown",
      "metadata": {
        "id": "LoesSoRgJFAP"
      },
      "source": [
        "Since Iris is a built-in dataset in `sklearn`, we can load it directly with a single line of code. "
      ]
    },
    {
      "cell_type": "code",
      "metadata": {
        "id": "IsVcNk-XJFAT"
      },
      "source": [
        "iris = datasets.load_iris() # Load the Iris dataset from sklearn"
      ],
      "execution_count": 131,
      "outputs": []
    },
    {
      "cell_type": "markdown",
      "metadata": {
        "id": "IAggn5iDJFAd"
      },
      "source": [
        "By running the following code, we see what the dataset looks like.  Again, this is generally good practice, to know something about the semantics of the dataset.  The UCI repository has a file per dataset it hosts to describe the data.  In this case, you can read up on what the fields' values mean [here](https://archive.ics.uci.edu/ml/machine-learning-databases/iris/iris.names). "
      ]
    },
    {
      "cell_type": "code",
      "metadata": {
        "id": "RttPzb43JFAg",
        "colab": {
          "base_uri": "https://localhost:8080/",
          "height": 202
        },
        "outputId": "f60bc0ef-0265-489b-f8e7-60bf204de36b"
      },
      "source": [
        "# Manufacture a dataframe for the raw data for sample inspection\n",
        "iris_pd = pd.DataFrame(data= np.c_[iris['data'], iris['target']], columns= iris['feature_names'] + ['target'])\n",
        "iris_pd.head()"
      ],
      "execution_count": 132,
      "outputs": [
        {
          "output_type": "execute_result",
          "data": {
            "text/html": [
              "<div>\n",
              "<style scoped>\n",
              "    .dataframe tbody tr th:only-of-type {\n",
              "        vertical-align: middle;\n",
              "    }\n",
              "\n",
              "    .dataframe tbody tr th {\n",
              "        vertical-align: top;\n",
              "    }\n",
              "\n",
              "    .dataframe thead th {\n",
              "        text-align: right;\n",
              "    }\n",
              "</style>\n",
              "<table border=\"1\" class=\"dataframe\">\n",
              "  <thead>\n",
              "    <tr style=\"text-align: right;\">\n",
              "      <th></th>\n",
              "      <th>sepal length (cm)</th>\n",
              "      <th>sepal width (cm)</th>\n",
              "      <th>petal length (cm)</th>\n",
              "      <th>petal width (cm)</th>\n",
              "      <th>target</th>\n",
              "    </tr>\n",
              "  </thead>\n",
              "  <tbody>\n",
              "    <tr>\n",
              "      <th>0</th>\n",
              "      <td>5.1</td>\n",
              "      <td>3.5</td>\n",
              "      <td>1.4</td>\n",
              "      <td>0.2</td>\n",
              "      <td>0.0</td>\n",
              "    </tr>\n",
              "    <tr>\n",
              "      <th>1</th>\n",
              "      <td>4.9</td>\n",
              "      <td>3.0</td>\n",
              "      <td>1.4</td>\n",
              "      <td>0.2</td>\n",
              "      <td>0.0</td>\n",
              "    </tr>\n",
              "    <tr>\n",
              "      <th>2</th>\n",
              "      <td>4.7</td>\n",
              "      <td>3.2</td>\n",
              "      <td>1.3</td>\n",
              "      <td>0.2</td>\n",
              "      <td>0.0</td>\n",
              "    </tr>\n",
              "    <tr>\n",
              "      <th>3</th>\n",
              "      <td>4.6</td>\n",
              "      <td>3.1</td>\n",
              "      <td>1.5</td>\n",
              "      <td>0.2</td>\n",
              "      <td>0.0</td>\n",
              "    </tr>\n",
              "    <tr>\n",
              "      <th>4</th>\n",
              "      <td>5.0</td>\n",
              "      <td>3.6</td>\n",
              "      <td>1.4</td>\n",
              "      <td>0.2</td>\n",
              "      <td>0.0</td>\n",
              "    </tr>\n",
              "  </tbody>\n",
              "</table>\n",
              "</div>"
            ],
            "text/plain": [
              "   sepal length (cm)  sepal width (cm)  ...  petal width (cm)  target\n",
              "0                5.1               3.5  ...               0.2     0.0\n",
              "1                4.9               3.0  ...               0.2     0.0\n",
              "2                4.7               3.2  ...               0.2     0.0\n",
              "3                4.6               3.1  ...               0.2     0.0\n",
              "4                5.0               3.6  ...               0.2     0.0\n",
              "\n",
              "[5 rows x 5 columns]"
            ]
          },
          "metadata": {},
          "execution_count": 132
        }
      ]
    },
    {
      "cell_type": "markdown",
      "metadata": {
        "id": "09gtAwL-FriG"
      },
      "source": [
        "We can also take a look at some general statistics."
      ]
    },
    {
      "cell_type": "code",
      "metadata": {
        "id": "9avb8ZUWRIZ4",
        "colab": {
          "base_uri": "https://localhost:8080/",
          "height": 295
        },
        "outputId": "7bceb40f-debe-49a3-ff84-9e1019dd92b2"
      },
      "source": [
        "iris_pd.describe()"
      ],
      "execution_count": 133,
      "outputs": [
        {
          "output_type": "execute_result",
          "data": {
            "text/html": [
              "<div>\n",
              "<style scoped>\n",
              "    .dataframe tbody tr th:only-of-type {\n",
              "        vertical-align: middle;\n",
              "    }\n",
              "\n",
              "    .dataframe tbody tr th {\n",
              "        vertical-align: top;\n",
              "    }\n",
              "\n",
              "    .dataframe thead th {\n",
              "        text-align: right;\n",
              "    }\n",
              "</style>\n",
              "<table border=\"1\" class=\"dataframe\">\n",
              "  <thead>\n",
              "    <tr style=\"text-align: right;\">\n",
              "      <th></th>\n",
              "      <th>sepal length (cm)</th>\n",
              "      <th>sepal width (cm)</th>\n",
              "      <th>petal length (cm)</th>\n",
              "      <th>petal width (cm)</th>\n",
              "      <th>target</th>\n",
              "    </tr>\n",
              "  </thead>\n",
              "  <tbody>\n",
              "    <tr>\n",
              "      <th>count</th>\n",
              "      <td>150.000000</td>\n",
              "      <td>150.000000</td>\n",
              "      <td>150.000000</td>\n",
              "      <td>150.000000</td>\n",
              "      <td>150.000000</td>\n",
              "    </tr>\n",
              "    <tr>\n",
              "      <th>mean</th>\n",
              "      <td>5.843333</td>\n",
              "      <td>3.057333</td>\n",
              "      <td>3.758000</td>\n",
              "      <td>1.199333</td>\n",
              "      <td>1.000000</td>\n",
              "    </tr>\n",
              "    <tr>\n",
              "      <th>std</th>\n",
              "      <td>0.828066</td>\n",
              "      <td>0.435866</td>\n",
              "      <td>1.765298</td>\n",
              "      <td>0.762238</td>\n",
              "      <td>0.819232</td>\n",
              "    </tr>\n",
              "    <tr>\n",
              "      <th>min</th>\n",
              "      <td>4.300000</td>\n",
              "      <td>2.000000</td>\n",
              "      <td>1.000000</td>\n",
              "      <td>0.100000</td>\n",
              "      <td>0.000000</td>\n",
              "    </tr>\n",
              "    <tr>\n",
              "      <th>25%</th>\n",
              "      <td>5.100000</td>\n",
              "      <td>2.800000</td>\n",
              "      <td>1.600000</td>\n",
              "      <td>0.300000</td>\n",
              "      <td>0.000000</td>\n",
              "    </tr>\n",
              "    <tr>\n",
              "      <th>50%</th>\n",
              "      <td>5.800000</td>\n",
              "      <td>3.000000</td>\n",
              "      <td>4.350000</td>\n",
              "      <td>1.300000</td>\n",
              "      <td>1.000000</td>\n",
              "    </tr>\n",
              "    <tr>\n",
              "      <th>75%</th>\n",
              "      <td>6.400000</td>\n",
              "      <td>3.300000</td>\n",
              "      <td>5.100000</td>\n",
              "      <td>1.800000</td>\n",
              "      <td>2.000000</td>\n",
              "    </tr>\n",
              "    <tr>\n",
              "      <th>max</th>\n",
              "      <td>7.900000</td>\n",
              "      <td>4.400000</td>\n",
              "      <td>6.900000</td>\n",
              "      <td>2.500000</td>\n",
              "      <td>2.000000</td>\n",
              "    </tr>\n",
              "  </tbody>\n",
              "</table>\n",
              "</div>"
            ],
            "text/plain": [
              "       sepal length (cm)  sepal width (cm)  ...  petal width (cm)      target\n",
              "count         150.000000        150.000000  ...        150.000000  150.000000\n",
              "mean            5.843333          3.057333  ...          1.199333    1.000000\n",
              "std             0.828066          0.435866  ...          0.762238    0.819232\n",
              "min             4.300000          2.000000  ...          0.100000    0.000000\n",
              "25%             5.100000          2.800000  ...          0.300000    0.000000\n",
              "50%             5.800000          3.000000  ...          1.300000    1.000000\n",
              "75%             6.400000          3.300000  ...          1.800000    2.000000\n",
              "max             7.900000          4.400000  ...          2.500000    2.000000\n",
              "\n",
              "[8 rows x 5 columns]"
            ]
          },
          "metadata": {},
          "execution_count": 133
        }
      ]
    },
    {
      "cell_type": "markdown",
      "metadata": {
        "id": "-38bIGPFJFAu"
      },
      "source": [
        "To simplify things, we take just the first two feature columns. Also, just to simplify things, we'll force the two non-linearly separable classes to be labeled with the same category, ending up with a binary classification problem."
      ]
    },
    {
      "cell_type": "code",
      "metadata": {
        "id": "hsD4T56qJFAz"
      },
      "source": [
        "# Take the first two columns to populate a binary classification problem\n",
        "X = iris.data[:, :2]\n",
        "# Collapse the other two non-zero class irises as one class\n",
        "y = (iris.target != 0) * 1 "
      ],
      "execution_count": 134,
      "outputs": []
    },
    {
      "cell_type": "markdown",
      "metadata": {
        "id": "aLGLU6b1FwbJ"
      },
      "source": [
        "### .b Visualize the Data"
      ]
    },
    {
      "cell_type": "markdown",
      "metadata": {
        "id": "I6uH_8S1JFA5"
      },
      "source": [
        "Now each data point is a 2-dimensional vector, so we can easily visualize it by drawing a figure using the `plt` _matplotlib_ object.  "
      ]
    },
    {
      "cell_type": "code",
      "metadata": {
        "id": "dA674s_5JFA8",
        "colab": {
          "base_uri": "https://localhost:8080/",
          "height": 376
        },
        "outputId": "ad08221c-8596-411b-8ccb-07c8eff36ef5"
      },
      "source": [
        "# Produce a scatterplot for the values\n",
        "plt.figure(figsize=(10, 6))\n",
        "plt.scatter(X[y == 0][:, 0], X[y == 0][:, 1], color='b', label='0')\n",
        "plt.scatter(X[y == 1][:, 0], X[y == 1][:, 1], color='r', label='1')\n",
        "plt.legend()\n",
        "plt.show()"
      ],
      "execution_count": 135,
      "outputs": [
        {
          "output_type": "display_data",
          "data": {
            "image/png": "[encoded data removed]",
            "text/plain": [
              "<Figure size 720x432 with 1 Axes>"
            ]
          },
          "metadata": {}
        }
      ]
    },
    {
      "cell_type": "markdown",
      "metadata": {
        "id": "XkAuJ_cmLJ12"
      },
      "source": [
        "### .c Applying Logistic Regression for Classification\n",
        "\n",
        "Now we could use the above dataset as training data, to train a logistic regression model on it using `sklearn`. To train a model in `sklearn` is simple and easy: you just need to call the `fit` function. "
      ]
    },
    {
      "cell_type": "code",
      "metadata": {
        "id": "bi-QAXQdL9qa",
        "colab": {
          "base_uri": "https://localhost:8080/"
        },
        "outputId": "988e4e75-ecb0-4d31-a989-49e5e67920bd"
      },
      "source": [
        "# Create an instance of Logistic Regression classifier\n",
        "model = LogisticRegression(C=1e20, solver = 'liblinear')\n",
        "# Train the model\n",
        "model.fit(X, y)"
      ],
      "execution_count": 136,
      "outputs": [
        {
          "output_type": "execute_result",
          "data": {
            "text/plain": [
              "LogisticRegression(C=1e+20, class_weight=None, dual=False, fit_intercept=True,\n",
              "                   intercept_scaling=1, l1_ratio=None, max_iter=100,\n",
              "                   multi_class='auto', n_jobs=None, penalty='l2',\n",
              "                   random_state=None, solver='liblinear', tol=0.0001, verbose=0,\n",
              "                   warm_start=False)"
            ]
          },
          "metadata": {},
          "execution_count": 136
        }
      ]
    },
    {
      "cell_type": "markdown",
      "metadata": {
        "id": "7h8RoU8rMbJl"
      },
      "source": [
        "Now, the trained model is stored in the variable `model`, we can print out the learned weights, and see the classification accuracy on the training data. "
      ]
    },
    {
      "cell_type": "code",
      "metadata": {
        "id": "l2SCPQDhMvjR",
        "colab": {
          "base_uri": "https://localhost:8080/"
        },
        "outputId": "45d62ffa-765e-4211-bf23-cfe617fb5904"
      },
      "source": [
        "print('The learned weights are {} {}'.format(model.intercept_, model.coef_)) \n",
        "# Your turn (to think about): Can you figure out what the outputs here mean?\n",
        "\n",
        "preds = model.predict(X) # Predict on our training set.  \n",
        "# Your turn (to think about): Is this indicative of testing performance?\n",
        "print('The classification accuracy: {}'.format(((preds == y).mean())))"
      ],
      "execution_count": 137,
      "outputs": [
        {
          "output_type": "stream",
          "name": "stdout",
          "text": [
            "The learned weights are [-80.54201957] [[ 31.5951929  -28.30153825]]\n",
            "The classification accuracy: 1.0\n"
          ]
        }
      ]
    },
    {
      "cell_type": "markdown",
      "metadata": {
        "id": "u9MMZn54G2jt"
      },
      "source": [
        "### .d Visualize the Decision Boundary"
      ]
    },
    {
      "cell_type": "markdown",
      "metadata": {
        "id": "zBg9FyfyMtXR"
      },
      "source": [
        "See? The classification accuracy is 100%, perfect! The model successfully finds a decision boundary that separates the two classes. Of course, this is based on the premise that the dataset is linearly separable. We can also superimpose the decision boundary on our earlier plot, using the following code:  "
      ]
    },
    {
      "cell_type": "code",
      "metadata": {
        "id": "Kf4m4fphXAYi",
        "colab": {
          "base_uri": "https://localhost:8080/",
          "height": 374
        },
        "outputId": "22a2b9f5-b120-4922-8e1e-6fe4dfe6a23d"
      },
      "source": [
        "# First four lines are identical to the earlier cell\n",
        "plt.figure(figsize=(10, 6))\n",
        "plt.scatter(X[y == 0][:, 0], X[y == 0][:, 1], color='b', label='0')\n",
        "plt.scatter(X[y == 1][:, 0], X[y == 1][:, 1], color='r', label='1')\n",
        "plt.legend()\n",
        "\n",
        "# Set up the Logistic Regressions threshold for plotting \n",
        "# You can try changing this too, or give more than one value\n",
        "colors = ['black']\n",
        "confidence = [0.5] \n",
        "\n",
        "# Define parameters for plotting the LR boundary\n",
        "x1_min, x1_max = X[:,0].min(), X[:,0].max(),\n",
        "x2_min, x2_max = X[:,1].min(), X[:,1].max(),\n",
        "xx1, xx2 = np.meshgrid(np.linspace(x1_min, x1_max), np.linspace(x2_min, x2_max))\n",
        "grid = np.c_[xx1.ravel(), xx2.ravel()]\n",
        "probs = model.predict_proba(grid)[:, 1].reshape(xx1.shape)\n",
        "\n",
        "# Plot the contour and show the plot\n",
        "plt.contour(xx1, xx2, probs, confidence, linewidths=2, colors=['black'])\n",
        "plt.show()"
      ],
      "execution_count": 138,
      "outputs": [
        {
          "output_type": "display_data",
          "data": {
            "image/png": "[encoded data removed]",
            "text/plain": [
              "<Figure size 720x432 with 1 Axes>"
            ]
          },
          "metadata": {}
        }
      ]
    },
    {
      "cell_type": "markdown",
      "metadata": {
        "id": "4nmZe2WvaQN2"
      },
      "source": [
        "Congrats, you have successfully trained a logistic regression classifier on the *Iris* dataset!  \n",
        "\n",
        "And whew!  You've completed a rather long Pre-tutorial notebook!  You (almost) deserve that shiny achievement...\n",
        "\n"
      ]
    },
    {
      "cell_type": "markdown",
      "metadata": {
        "id": "X6OU9haEr6I7"
      },
      "source": [
        "## 3 Non-Linear Transformations\n",
        "We have seen examples of using linear classifiers on different datasets. But the data we worked on up to now were largely linearly separable, i.e. we can draw a hyperplane to cleanly dinstinguish between the two sets. But in real life that is not the case. Most of the data we find in real life may not be linearly separable. We can not distinguish between two class just by drawing a straight line. Now, what should we do in such case? Is there a way to apply **Linear Classfiers** on **Linearly Non-Separable Data**?\n",
        "\n",
        "The solution to this problem is simple: apply a **Non-Linear Transformation**. If we want to apply linear classifier on non-linear data points, then we can perform a non-linear transformation to those data points, so that they become linearly separable. In the figure below, we can see an example of non-linear data. We can see the data points of two classes are not separable by a straight line; but it looks like a circular boundary could divide them into two separate clusters.\n",
        "\n",
        "So what do we need to do is tranform the data points!\n",
        "\n",
        "<div align=\"center\">\n",
        "<img src=\"https://www.comp.nus.edu.sg/~neamul/Images/nonlinear_new1.png\" width=700 />\n",
        " </div>\n",
        "\n"
      ]
    },
    {
      "cell_type": "markdown",
      "metadata": {
        "id": "zZX6kT0cJbko"
      },
      "source": [
        "### .a Example of Non-linear Transformation"
      ]
    },
    {
      "cell_type": "markdown",
      "metadata": {
        "id": "5aFYuRNqJaVv"
      },
      "source": [
        "Now, there are a lot of ways to transform data points from one space to another. Depending on the original data points, we decide which transformation function we should use. In this example, taking the squares of each dimension: i.e., \n",
        "$(x_1,x_2,...,x_n) \\xrightarrow\\phi (x_1^2,x_2^2,...,x_n^2)$ works to manufacture a new dataset $Z$ that is linearly separable. We are not limited to just squaring though -- Instead of squaring, we can think of any transformation $\\textbf{x} \\xrightarrow\\phi \\textbf{z}$, where the transformation results in a linearly separable space between both clusters. Once we have transformed the data points to a different space, then we can apply our linear model to classify the data points.\n",
        "\n",
        "<div align=\"center\">\n",
        "<img src=\"https://www.comp.nus.edu.sg/~neamul/Images/nonlinear_new2.png\" width=800 />\n",
        " </div>"
      ]
    },
    {
      "cell_type": "markdown",
      "metadata": {
        "id": "RpZGmr5bedVx"
      },
      "source": [
        "**Your Turn (Question 5)**: Transform this non-linear equation to a linear one: $y = ax^b$?\n",
        "\n",
        "Y = lna + bX, where Y = lny, X = lnx"
      ]
    },
    {
      "cell_type": "markdown",
      "metadata": {
        "id": "jC7Fy6dGALOV"
      },
      "source": [
        "## 4 Programming : Implementing Logistic Regression\n"
      ]
    },
    {
      "cell_type": "markdown",
      "metadata": {
        "id": "yqV-KdMaXrvk"
      },
      "source": [
        "In this exercise, we are going to implement logistic regression from scratch. Logistic regression is a generalized linear model for classification that predicts the probability of a binary event. For example, we might use logistic regression to predict whether someone will be denied or approved for a loan, or whether an email is a spam or not.\n",
        "\n",
        "Similar to linear regression, in logistic regression, input values ($\\mathbf{X}$) are combined linearly using weights or coefficient values to predict an output value ($\\mathbf{y}$). A key difference from linear regression is that the output value being modeled is a binary value ($0$ or $1$), rather than a numeric value.\n",
        "\n",
        "In logistic regression, we’re essentially trying to find the weights that **maximize the likelihood of the training data** $\\mathbf{X}$ and use them to categorize the target variable. Unlike linear regression, the likelihood maximization in logistic regression doesn’t have a closed form solution, and we'll need to solve the optimization problem with **gradient descent**. "
      ]
    },
    {
      "cell_type": "code",
      "metadata": {
        "id": "R9D2Szt9uFkG"
      },
      "source": [
        "# Do some standard library imports for data science and machine learning\n",
        "import numpy as np\n",
        "import math\n",
        "import matplotlib.pyplot as plt\n",
        "from sklearn import datasets\n",
        "import pandas as pd\n",
        "from sklearn.linear_model import LogisticRegression"
      ],
      "execution_count": 139,
      "outputs": []
    },
    {
      "cell_type": "markdown",
      "metadata": {
        "id": "GO6nik6wTqtH"
      },
      "source": [
        "### a. Logistic Function"
      ]
    },
    {
      "cell_type": "markdown",
      "metadata": {
        "id": "XL-cvO2SmitF"
      },
      "source": [
        "\n",
        "\n",
        "Before we dive into logistic regression, let’s take a look at the **logistic function** (or equivalently, sigmoid function), the heart of the logistic regression technique.  The logistic function is defined as:\n",
        "\n",
        "$$\n",
        "g(z) = \\frac{1}{1 + \\exp^{-z}}\n",
        "$$\n",
        "\n",
        "It is a \"S\"-shaped curve that maps any real value to the range between $0$ and $1$:\n",
        "\n",
        "<div align=\"center\">\n",
        "<img src=\"https://upload.wikimedia.org/wikipedia/commons/thumb/8/88/Logistic-curve.svg/600px-Logistic-curve.svg.png\" width=400 />\n",
        " </div>\n",
        " \n",
        " By Qef (The Standard Logistic Regression) [CC BY 4.0](https://creativecommons.org/licenses/by-sa/4.0/deed.en), via Wikimedia Commons._\n"
      ]
    },
    {
      "cell_type": "markdown",
      "metadata": {
        "id": "r0tL8prOucw1"
      },
      "source": [
        "Let's get started.  \n",
        "\n",
        "**Your Turn (Question 6):** Implement the `sigmoid` function below.\n",
        "\n",
        "_Copy the code you added or modified in the assessment_"
      ]
    },
    {
      "cell_type": "code",
      "metadata": {
        "cellView": "both",
        "id": "W9DnPolTdG19"
      },
      "source": [
        "def sigmoid(z):\n",
        "    \"\"\"Calculate the sigmoid function on an input\n",
        "\n",
        "    Args:\n",
        "        input (float): The input value to transform\n",
        "\n",
        "    Returns:\n",
        "        float: Transformed value for the input; bounded between 0.0 and 1.0\n",
        "    \"\"\"\n",
        "\n",
        "    #############################################################\n",
        "    #\n",
        "    return 1 / (1 + np.exp(-z))\n",
        "    #\n",
        "    #############################################################"
      ],
      "execution_count": 140,
      "outputs": []
    },
    {
      "cell_type": "markdown",
      "metadata": {
        "id": "_wPXccv1ynz-"
      },
      "source": [
        "You can run the following code to plot the figure of your sigmoid function, and check if your implementation is correct. "
      ]
    },
    {
      "cell_type": "code",
      "metadata": {
        "id": "vf-JRGAMy9Z-",
        "colab": {
          "base_uri": "https://localhost:8080/",
          "height": 265
        },
        "outputId": "aca36bd9-727d-4c4e-97be-1150256a057c"
      },
      "source": [
        "## Plotting testing harness\n",
        "%matplotlib inline\n",
        "\n",
        "# set the input space and define the function to plot\n",
        "x = np.linspace(-10, 10)\n",
        "y = sigmoid(x)\n",
        "\n",
        "fig = plt.figure(figsize=(6,4))\n",
        "ax = fig.add_subplot(111)\n",
        "\n",
        "# stylize the plot\n",
        "plt.style.use('ggplot')\n",
        "plt.xlim(-11,11)\n",
        "plt.ylim(0,1.1)\n",
        "\n",
        "ax.xaxis.set_ticks_position('bottom')\n",
        "ax.spines['bottom'].set_position(('data',0))\n",
        "ax.set_xticks([-10,-5,0,5,10])\n",
        "\n",
        "ax.yaxis.set_ticks_position('left')\n",
        "ax.spines['left'].set_position(('data',0))\n",
        "ax.set_yticks([0,0.5,1])\n",
        " \n",
        "# perform and show the plot\n",
        "plt.plot(x,y,label=\"Sigmoid\",color = \"blue\")\n",
        "plt.legend()\n",
        "plt.show()"
      ],
      "execution_count": 141,
      "outputs": [
        {
          "output_type": "display_data",
          "data": {
            "image/png": "[encoded data removed]",
            "text/plain": [
              "<Figure size 432x288 with 1 Axes>"
            ]
          },
          "metadata": {
            "needs_background": "light"
          }
        }
      ]
    },
    {
      "cell_type": "markdown",
      "metadata": {
        "id": "7z4xBh1eTvpk"
      },
      "source": [
        "### .b Prediction Function"
      ]
    },
    {
      "cell_type": "markdown",
      "metadata": {
        "id": "imeIwDYc061O"
      },
      "source": [
        "\n",
        "\n",
        "In linear regression, for a data point $x$, we predict its value $y$ by using a linear function $y = h_{\\theta}(x) = \\theta^\\top x$. This is not a great solution for predicting binary-valued labels ($y\\in \\{0,1\\}$). In logistic regression, we first use a linear function $z = h_{\\theta}(x) = \\theta^\\top x$ to get the \"score\" of $x$ belonging to the $1$ class, and then squash the score $z$ into the range $(0,1)$ using the sigmoid function,  i.e., $y = \\text{sigmoid}(z)$. In this way, we can interpret the prediction $y$ as the probability that $x$ belongs to the $1$ class. \n",
        "\n",
        "In summary, the prediction function of logistic regression is as follows:\n",
        "\n",
        "$$\n",
        "P(y = 1 | x) = h_{\\theta}(x) = \\text{sigmoid}(\\theta^\\top x) \\\\\n",
        "P(y = 0 | x) = 1 - P(y = 1 | x) = 1 - h_{\\theta}(x)\n",
        "$$"
      ]
    },
    {
      "cell_type": "markdown",
      "metadata": {
        "id": "SHptMTn87IyH"
      },
      "source": [
        "\n",
        "\n",
        "Now, implement the prediction function of logistic regression by yourself. The function takes as input the input matrix $\\mathbf{X}$ and the parameter vector $\\theta$, and returns $h_{\\theta}(\\mathbf{X})$. \n",
        "\n",
        "Inputs:\n",
        "- `theta`: the weight vector $\\theta$ (an $n$-dimensional vector).\n",
        "- `X`: an $m \\times n$ matrix, where the $j$-th row is the $j$-th data point $x^{(j)}$. \n",
        "\n",
        "Returns: $h_{\\theta}(\\mathbf{X})$: A numpy array where the $j$-th entry is $h_{\\theta}(x^{(j)})$. \n",
        "\n"
      ]
    },
    {
      "cell_type": "markdown",
      "metadata": {
        "id": "huBK4uQFMooo"
      },
      "source": [
        "**Your Turn (Question 7):** Implement the `prediction` function of logistic regression.\n",
        "\n",
        "_Copy the code you added or modified in the assessment_"
      ]
    },
    {
      "cell_type": "code",
      "metadata": {
        "id": "exKWLFZV73Qw"
      },
      "source": [
        "def prediction(theta, X):\n",
        "    \"\"\"Equivalent .predict() function in sklearn's classifier\n",
        "\n",
        "    Args:\n",
        "        theta (array of floats; n): The weight vector of our classifier\n",
        "        X (array of floats; m x n): The sample we want to test or make a prediction on\n",
        "\n",
        "    Returns:\n",
        "        array of floats; m: Prediction for the test_sample\n",
        "    \"\"\"\n",
        "    predictions = np.zeros(X.shape[0], np.float)\n",
        "    #############################################################\n",
        "    #\n",
        "    predictions = sigmoid(np.matmul(X, theta))\n",
        "    #\n",
        "    #############################################################\n",
        "    \n",
        "    return predictions"
      ],
      "execution_count": 142,
      "outputs": []
    },
    {
      "cell_type": "markdown",
      "metadata": {
        "id": "NXFCAALhTy3y"
      },
      "source": [
        "### .c Calculating the Log-Likelihood"
      ]
    },
    {
      "cell_type": "markdown",
      "metadata": {
        "id": "dkc-aXrp8n7G"
      },
      "source": [
        "\n",
        "\n",
        "After we build up the logistic regression model, our goal is to search for a value of $\\theta$ so that the probability $P(y = 1 | x) = h_{\\theta}(x)$ is large when $x$ belongs to the $1$ class, and small when $x$ belongs to the $0$ class (since this is a binary classification task, this implies that $P(y = 0 | x)$ is large). We will learn $\\theta$ from the training data. \n",
        "\n",
        "For a set of training examples with binary labels $\\{(x^{(i)}, y^{(i)}) : i = 1, \\cdots , m \\}$, the log-likelihood of the training data measures how well our model fits the training data. The log-likelihood (denoted as $LL(\\theta)$) is calculated as follows (refer to the course lecture notes to see its derivation):\n",
        "\n",
        "$$\n",
        "L(\\theta) = - \\frac{1}{m} \\sum_i^m \\left(y^{(i)} \\log( h_\\theta(x^{(i)}) ) + (1 - y^{(i)}) \\log( 1 - h_\\theta(x^{(i)}) ) \\right).\n",
        "$$\n",
        "\n",
        "Note that only one of the two terms in the summation is non-zero, for each training example – depending on whether the label $y^{(i)}$ is $0$ or $1$. When $y^{(i)}=1$, minimizing the cost function implies that we need to make $h_{\\theta}(x^{(i)})$ large; and when $y^{(i)}=0$, we want to make $1−h_{\\theta}$ large, as explained above. \n",
        "\n",
        "\n",
        "\n"
      ]
    },
    {
      "cell_type": "markdown",
      "metadata": {
        "id": "5ZUZgWG1BEMh"
      },
      "source": [
        "\n",
        "\n",
        "Let's now implement this cost function. \n",
        "\n",
        "Inputs:\n",
        "- `X`: an $m \\times n$ matrix, where the $j$-th row is the feature vector of $x^{(j)}$. \n",
        "- `y`: a $m$-dimensional vector, where the $j$-th element is $y^{(j)}$. \n",
        "- `theta`: the weight vector $\\theta$ (a $n$-dimentional vector). \n",
        "\n",
        "Returns: $L(\\theta)$: A scalar. "
      ]
    },
    {
      "cell_type": "markdown",
      "metadata": {
        "id": "Od52y01IMzdN"
      },
      "source": [
        "**Your Turn (Question 8):** Implement the `log_likelihood` function:\n",
        "\n",
        "_Copy the code you added or modified in the assessment_"
      ]
    },
    {
      "cell_type": "code",
      "metadata": {
        "id": "9b4gmJR-CJsb"
      },
      "source": [
        "def log_likelihood(X, y, theta):\n",
        "    \"\"\"Calculates the log likelihood on the given data \n",
        "\n",
        "    Args:\n",
        "        X (array of floats; m x n): The input data\n",
        "        y (array of floats; m): The target values for the data\n",
        "        theta (array of floats; n): The weight vector \\theta\n",
        "\n",
        "    Returns:\n",
        "        float: cost, the log likelihood of the data X\n",
        "    \"\"\"\n",
        "    likelihood = 0.0\n",
        "    # y :(150, 0)\n",
        "    #############################################################\n",
        "    #\n",
        "    # res = [(np.matmul(y[i], np.log(prediction(theta, X[i]))) + (1 - y[i]) * np.log(1 - prediction(theta, X[i])))) for i in range(len(X))]\n",
        "    for i in range(len(X)):\n",
        "        likelihood += y[i] * np.log(prediction(theta, X[i]))\n",
        "        likelihood += (1 - y[i]) * np.log(1 - prediction(theta, X[i]))\n",
        "    likelihood = -likelihood / len(X)\n",
        "    #\n",
        "    #############################################################\n",
        "    \n",
        "    return likelihood"
      ],
      "execution_count": 143,
      "outputs": []
    },
    {
      "cell_type": "markdown",
      "metadata": {
        "id": "MhvjO8WmT3Z3"
      },
      "source": [
        "### .d Calculating the Gradient"
      ]
    },
    {
      "cell_type": "markdown",
      "metadata": {
        "id": "IrnwiKfBDtJ9"
      },
      "source": [
        "\n",
        "\n",
        "We now have a cost function that measures how well a given hypothesis $h_{\\theta}$ fits our training data. We can learn to classify our training data by minimizing $L(\\theta)$ to find the best choice of $\\theta$. \n",
        "\n",
        "Here we use the gradient descent to optimize $L(\\theta)$. So we need to provide a function that computes the gradients of our cost function $L(\\theta)$. We'll denote this as $\\nabla_\\theta L(\\theta)$ for any requested choice of $\\theta$.  \n",
        "\n",
        "The detailed derivation of $\\nabla_\\theta L(\\theta)$ is given later below in the post-class section of this notebook. For now, we simply write the answer as follows:\n",
        "\n",
        "$$\n",
        "\\nabla_\\theta L(\\theta) = \\frac{1}{m} X^\\top (h_{\\theta}(X) - y)\n",
        "$$\n",
        "\n",
        "$\\nabla_\\theta L(\\theta)$ is the gradient and should be an $n$-dimensional vector, where the $i$-th element of $\\nabla_\\theta L(\\theta)$ is the partial derivative of the loss function $L(\\theta)$ with respect to $\\theta_i$. \n"
      ]
    },
    {
      "cell_type": "markdown",
      "metadata": {
        "id": "HR0cH0ImF9oh"
      },
      "source": [
        "\n",
        "It's your turn again! Please write your own code in the following function to calculate the gradient $\\nabla_\\theta L(\\theta)$, given:  \n",
        "- `X`: an $m \\times n$ matrix, where the $j$-th row is the feature vector of $x^{(j)}$. \n",
        "- `y`: a $m$-dimensional vector, where the $j$-th element is $y^{(j)}$. \n",
        "- `theta`: the weight vector $\\theta$. (an $n$-dimensional vector)\n",
        "\n",
        "Returns: $\\nabla_\\theta L(\\theta)$ (an $n$-dimensional vector)\n",
        "\n",
        "**Tip**: Please call the `prediction` function you implemented to calculate $h_{\\theta}(X)$. "
      ]
    },
    {
      "cell_type": "markdown",
      "metadata": {
        "id": "Pks3dxlCNA8o"
      },
      "source": [
        "**Your Turn (Question 9):** Implement the `gradient` function.\n",
        "\n",
        "_Copy the code you added or modified in the assessment_"
      ]
    },
    {
      "cell_type": "code",
      "metadata": {
        "id": "lE_0ApOuHCoA"
      },
      "source": [
        "def gradient(X, y, theta):\n",
        "    \"\"\"Calculates the gradient \n",
        "\n",
        "    Args:\n",
        "        X (array of floats; m x n): The input data\n",
        "        y (array of floats; m): The target values for the data\n",
        "        theta (array of floats; n): The weight vector \\theta\n",
        "\n",
        "    Returns:\n",
        "        array of floats; n: the gradient of the cost function\n",
        "    \"\"\"\n",
        "    gradient = 0.0\n",
        "    \n",
        "    #############################################################\n",
        "    #\n",
        "    m = len(X)\n",
        "    res = np.matmul(np.transpose(X), prediction(theta, X) - y)\n",
        "    gradient = res / m\n",
        "    #\n",
        "    #############################################################\n",
        "    \n",
        "    return gradient"
      ],
      "execution_count": 144,
      "outputs": []
    },
    {
      "cell_type": "markdown",
      "metadata": {
        "id": "wGlLVSoUT7nS"
      },
      "source": [
        "### .e Building the Logistic Regression Function"
      ]
    },
    {
      "cell_type": "markdown",
      "metadata": {
        "id": "0Grj3OpKHrZY"
      },
      "source": [
        "\n",
        "\n",
        "Finally, we are ready to train the model using gradient descent. The following code provide you a training framework. \n",
        "\n"
      ]
    },
    {
      "cell_type": "markdown",
      "metadata": {
        "id": "0n1QOfPtMN6O"
      },
      "source": [
        "\n",
        "\n",
        "The weight update rule in batch gradient descent is given by:\n",
        "$$\n",
        "\\theta(t+1) = \\theta(t) - \\alpha \\cdot \\nabla_{\\theta(t)} L(\\theta(t))\n",
        "$$\n",
        "where $\\theta(t)$ represents the weights in the $t$-th iteration, and $\\alpha$ denotes the learning rate.  \n",
        "\n",
        "In the following function, your task is to implement the weight update of batch gradient descent according to the above equation. Please call the `gradient` function to help you calculate the gradient in your code.\n",
        "\n",
        "Inputs: \n",
        "- `X`: (np.array) an $m \\times n$ matrix, where the $j$-th row is the feature vector of $x^{(j)}$. \n",
        "- `y`: (np.array) a $m$-dimensional vector, where the $j$-th element is $y^{(j)}$. \n",
        "- `num_steps`: (int) the number of training iterations. \n",
        "- `learning_rate`: (float) learning rate of gradient descent, \\alpha. \n",
        "- `verbose`: (Boolean) should we print the training information or not?\n",
        "\n",
        "Returns: the optimized weights $\\theta$. "
      ]
    },
    {
      "cell_type": "markdown",
      "metadata": {
        "id": "Pdb_pDszNV1p"
      },
      "source": [
        "**Your Turn (Question 10):** Complete the code to train the `logistic_regression` model.\n",
        "\n",
        "_Copy the code you added or modified in the assessment_"
      ]
    },
    {
      "cell_type": "code",
      "metadata": {
        "id": "zPeZkM__Iu4a"
      },
      "source": [
        "def logistic_regression(X, y, num_steps, learning_rate, verbose):\n",
        "    \"\"\"Optimises the weights for logistic regression, given a training dataset.\n",
        "\n",
        "    Args:\n",
        "        X (array of floats; m x n): The input data\n",
        "        y (array of floats; m): The target values for the data\n",
        "        num_steps (int): number of training iteration before termination\n",
        "        learning_rate (float): learning rate for the gradient descent\n",
        "        verbose (Boolean): print log-likelihood statistics?\n",
        "\n",
        "    Returns:\n",
        "        array of floats; n: The weight vector \\theta\n",
        "    \"\"\"\n",
        "    # Add the bias\n",
        "    bias = np.ones((X.shape[0], 1))\n",
        "    X = np.concatenate((bias, X), axis=1)\n",
        "\n",
        "    # Initialize the weights\n",
        "    weights = np.zeros(X.shape[1])\n",
        "\n",
        "    # Training with gradient descent\n",
        "    for step in range(num_steps):\n",
        "\n",
        "        # Update weights with gradient\n",
        "        #############################################################\n",
        "        #\n",
        "        weights = weights - learning_rate * gradient(X, y, weights)\n",
        "        \n",
        "        #\n",
        "        #############################################################\n",
        "\n",
        "        # Print log-likelihood every step\n",
        "        cost = log_likelihood(X, y, weights)\n",
        "        if verbose and step % 10000 == 0:\n",
        "            print('Number of iterations: {}; cost: {:.5f}'.format(step, cost))\n",
        "\n",
        "    return weights"
      ],
      "execution_count": 145,
      "outputs": []
    },
    {
      "cell_type": "markdown",
      "metadata": {
        "id": "ezl_CPo7ALky"
      },
      "source": [
        "### .f Putting it into practice: Classification on the *Iris* dataset"
      ]
    },
    {
      "cell_type": "markdown",
      "metadata": {
        "id": "XAbg57LpALzJ"
      },
      "source": [
        "Congratulations! You have implemented your own version of logistic regression. To see how well it works in practice, let's test it on a real-world dataset. \n",
        "\n",
        "We will again use the same, modified _Iris_ dataset as in our Pre-Class work. Please run the following code to load and visualize the data first.  "
      ]
    },
    {
      "cell_type": "code",
      "metadata": {
        "id": "K1mhJ7cARvDu",
        "colab": {
          "base_uri": "https://localhost:8080/",
          "height": 376
        },
        "outputId": "5b1423f2-911c-41b9-b9db-211a6419cf5f"
      },
      "source": [
        "# Load the original dataset\n",
        "iris = datasets.load_iris()\n",
        "\n",
        "# Obtain the training data\n",
        "X = iris.data[:, :2]\n",
        "y = (iris.target != 0) * 1\n",
        "\n",
        "# Visualize the training data\n",
        "plt.figure(figsize=(10, 6))\n",
        "plt.scatter(X[y == 0][:, 0], X[y == 0][:, 1], color='b', label='0')\n",
        "plt.scatter(X[y == 1][:, 0], X[y == 1][:, 1], color='r', label='1')\n",
        "plt.legend()\n",
        "plt.show()\n",
        "\n",
        "# Your turn: Sanity check -- verify the dataset is the same as in the earlier plot"
      ],
      "execution_count": 146,
      "outputs": [
        {
          "output_type": "display_data",
          "data": {
            "image/png": "[encoded data removed]",
            "text/plain": [
              "<Figure size 720x432 with 1 Axes>"
            ]
          },
          "metadata": {}
        }
      ]
    },
    {
      "cell_type": "markdown",
      "metadata": {
        "id": "JL5_bbayUAaq"
      },
      "source": [
        "### .g Binary Classification with Logistic Regression"
      ]
    },
    {
      "cell_type": "markdown",
      "metadata": {
        "id": "8nYjIwlGAMFn"
      },
      "source": [
        "\n",
        "\n",
        "Excited? It's time to run our model to do binary classification on our modified  _Iris_ dataset. \n",
        "\n",
        "The following code trains your implemented logistic regression model.  You should expect to see a continuing decrease of the cost function. The training process will typically takes 10–60 seconds in our experience, but your mileage may vary."
      ]
    },
    {
      "cell_type": "code",
      "metadata": {
        "id": "TkHZsv2dV5EP",
        "colab": {
          "base_uri": "https://localhost:8080/"
        },
        "outputId": "672678ea-0b50-43ac-db26-41fec22bc607"
      },
      "source": [
        "weights = logistic_regression(X, y, num_steps = 300000, learning_rate = 0.1, verbose = True)"
      ],
      "execution_count": 147,
      "outputs": [
        {
          "output_type": "stream",
          "name": "stdout",
          "text": [
            "Number of iterations: 0; cost: 0.61069\n",
            "Number of iterations: 10000; cost: 0.03433\n",
            "Number of iterations: 20000; cost: 0.02879\n",
            "Number of iterations: 30000; cost: 0.02572\n",
            "Number of iterations: 40000; cost: 0.02341\n",
            "Number of iterations: 50000; cost: 0.02151\n",
            "Number of iterations: 60000; cost: 0.01989\n",
            "Number of iterations: 70000; cost: 0.01850\n",
            "Number of iterations: 80000; cost: 0.01730\n",
            "Number of iterations: 90000; cost: 0.01625\n",
            "Number of iterations: 100000; cost: 0.01533\n",
            "Number of iterations: 110000; cost: 0.01452\n",
            "Number of iterations: 120000; cost: 0.01380\n",
            "Number of iterations: 130000; cost: 0.01316\n",
            "Number of iterations: 140000; cost: 0.01258\n",
            "Number of iterations: 150000; cost: 0.01206\n",
            "Number of iterations: 160000; cost: 0.01159\n",
            "Number of iterations: 170000; cost: 0.01116\n",
            "Number of iterations: 180000; cost: 0.01077\n",
            "Number of iterations: 190000; cost: 0.01041\n",
            "Number of iterations: 200000; cost: 0.01008\n",
            "Number of iterations: 210000; cost: 0.00977\n",
            "Number of iterations: 220000; cost: 0.00948\n",
            "Number of iterations: 230000; cost: 0.00921\n",
            "Number of iterations: 240000; cost: 0.00897\n",
            "Number of iterations: 250000; cost: 0.00873\n",
            "Number of iterations: 260000; cost: 0.00851\n",
            "Number of iterations: 270000; cost: 0.00830\n",
            "Number of iterations: 280000; cost: 0.00811\n",
            "Number of iterations: 290000; cost: 0.00793\n"
          ]
        }
      ]
    },
    {
      "cell_type": "markdown",
      "metadata": {
        "id": "_WdBYWsaUI5t"
      },
      "source": [
        "Let's inspect what we've done.  The following code prints the weights, classification accuracy, and plots the decision boundary.  "
      ]
    },
    {
      "cell_type": "code",
      "metadata": {
        "id": "MxT1tlIWWoA7",
        "colab": {
          "base_uri": "https://localhost:8080/",
          "height": 409
        },
        "outputId": "bef253c9-5769-45b2-fb63-ecb0a385dfd5"
      },
      "source": [
        "############################################################\n",
        "def predict_prob(X, weights):\n",
        "    \"\"\"Returns prediction probabilities for the input data\n",
        "    Args:\n",
        "        X (array of floats; m x n): The input data\n",
        "        weights (array of floats; n): The weight vector \\theta\n",
        "\n",
        "    Returns:\n",
        "        array of floats; n: The predicted probability of +1 class, bounded (0,1)\n",
        "    \"\"\"\n",
        "    # Add the bias, x_0, for each example\n",
        "    bias = np.ones((X.shape[0], 1))\n",
        "    X = np.concatenate((bias, X), axis=1)\n",
        "\n",
        "    return sigmoid(np.dot(X, weights))\n",
        "###########################################################\n",
        "\n",
        "print('The learned weights are {}'.format(weights))\n",
        "\n",
        "preds = predict_prob(X, weights).round()\n",
        "# Calculate the accuracy\n",
        "accu = (preds == y).mean() \n",
        "print('The classification accuracy: {}'.format(accu))\n",
        "\n",
        "confidence = [0.5]\n",
        "boundary_colors = ['black']\n",
        "\n",
        "plt.figure(figsize=(10, 6))\n",
        "plt.scatter(X[y == 0][:, 0], X[y == 0][:, 1], color='b', label='0')\n",
        "plt.scatter(X[y == 1][:, 0], X[y == 1][:, 1], color='r', label='1')\n",
        "plt.legend()\n",
        "x1_min, x1_max = X[:,0].min(), X[:,0].max(),\n",
        "x2_min, x2_max = X[:,1].min(), X[:,1].max(),\n",
        "xx1, xx2 = np.meshgrid(np.linspace(x1_min, x1_max), np.linspace(x2_min, x2_max))\n",
        "grid = np.c_[xx1.ravel(), xx2.ravel()]\n",
        "probs = predict_prob(grid, weights).reshape(xx1.shape)\n",
        "plt.contour(xx1, xx2, probs, confidence, linewidths=1, colors=boundary_colors)\n",
        "plt.show()"
      ],
      "execution_count": 148,
      "outputs": [
        {
          "output_type": "stream",
          "name": "stdout",
          "text": [
            "The learned weights are [-25.89066442  12.523156   -13.40150447]\n",
            "The classification accuracy: 1.0\n"
          ]
        },
        {
          "output_type": "display_data",
          "data": {
            "image/png": "[encoded data removed]",
            "text/plain": [
              "<Figure size 720x432 with 1 Axes>"
            ]
          },
          "metadata": {}
        }
      ]
    },
    {
      "cell_type": "markdown",
      "metadata": {
        "id": "jLdXh5e_Fbla"
      },
      "source": [
        "If you got everything right, you are expected to obtain a perfect classification accuracy (e.g., 1.0), and plot a beautiful decision boundary to separate the data points correctly. \n"
      ]
    },
    {
      "cell_type": "markdown",
      "metadata": {
        "id": "5QJKo_BhUCS0"
      },
      "source": [
        "### .h Compare your version with `sklearn`"
      ]
    },
    {
      "cell_type": "markdown",
      "metadata": {
        "id": "D4LJsZNcUI87"
      },
      "source": [
        "\n",
        "\n",
        "Now compare your implementation with `sklearn`.  Print the training time, learned weights, and the classification accuracy. Do you find that there is a remarkably difference is about training time? `sklearn` is an order of magnitude faster. \n",
        "\n"
      ]
    },
    {
      "cell_type": "code",
      "metadata": {
        "id": "6_LOVHy0_Vod",
        "scrolled": true,
        "colab": {
          "base_uri": "https://localhost:8080/"
        },
        "outputId": "af81180f-e811-4f66-859b-25b5cffff952"
      },
      "source": [
        "def test_sklearn_logistic_regression(X, y):\n",
        "    \"\"\"Testing harness for the sklearn logistic regression \n",
        "    Args:\n",
        "        X (array of floats; m x n): The input data\n",
        "        y (array of floats; m): The target values for the data\n",
        "    \"\"\"\n",
        "    print('sklearn')\n",
        "    model = LogisticRegression(C=1e20,solver = 'liblinear')\n",
        "    %time model.fit(X, y)\n",
        "    preds = model.predict(X)\n",
        "    print('The learned weights are {} {}'.format(model.intercept_, model.coef_))\n",
        "    print('The classification accuracy: {}'.format(((preds == y).mean())))\n",
        "    print()\n",
        "    return\n",
        "\n",
        "def test_your_version_logistic_regression(X, y):\n",
        "    \"\"\"Testing harness for your version of logistic regression \n",
        "    Args:\n",
        "        X (array of floats; m x n): The input data\n",
        "        y (array of floats; m): The target values for the data\n",
        "    \"\"\"\n",
        "    print('Your version')\n",
        "    %time weights = logistic_regression(X, y, num_steps = 300000, learning_rate = 0.1, verbose = False)\n",
        "    print('The learned weights are {}'.format(weights))\n",
        "    preds = predict_prob(X, weights).round()\n",
        "    print('The classification accuracy: {}'.format((preds == y).mean()))\n",
        "    return\n",
        "  \n",
        "test_sklearn_logistic_regression(X, y)\n",
        "test_your_version_logistic_regression(X, y)"
      ],
      "execution_count": 149,
      "outputs": [
        {
          "output_type": "stream",
          "name": "stdout",
          "text": [
            "sklearn\n",
            "CPU times: user 3.65 ms, sys: 5 µs, total: 3.66 ms\n",
            "Wall time: 2.77 ms\n",
            "The learned weights are [-80.54201957] [[ 31.5951929  -28.30153825]]\n",
            "The classification accuracy: 1.0\n",
            "\n",
            "Your version\n",
            "CPU times: user 17min 6s, sys: 4.7 s, total: 17min 11s\n",
            "Wall time: 17min 7s\n",
            "The learned weights are [-25.89066442  12.523156   -13.40150447]\n",
            "The classification accuracy: 1.0\n"
          ]
        }
      ]
    },
    {
      "cell_type": "markdown",
      "metadata": {
        "id": "qOfSv9AzodBb"
      },
      "source": [
        "Great job!  We're done here!\n",
        "\n",
        "For more understanding:\n",
        "* Your turn (optional): Hey, you know, we tested on our training data (a no-no)!  Modify your code to use the `train_test_split` function to divide your dataset properly into a training and testing dataset, with 50% for training and 50% for testing.\n",
        "* Your turn (optional): Change the reporting to visualize the decision boundary (0.5 or greater) at different iterations during training. You can even plot them with different shades of gray.\n",
        "* Your turn (optional): Try out a linear regression problem.  You'll have to change your dataset from a classification one to one with real valued outputs (regression).  You'll need to write out your own linear regression trainer.  \n",
        "  * You can try with the same gradient descent algorithm you used for logistic regression.\n",
        "  * Or with the closed-form analytic solution (harder)"
      ]
    },
    {
      "cell_type": "markdown",
      "metadata": {
        "id": "QHN6xbtAedWl"
      },
      "source": [
        "**Your Turn (Question 11)**: Not optional.  Describe how you would apply a logistic regression on a 3-class classification problem.\n",
        "\n",
        "_Replace with your answer_"
      ]
    },
    {
      "cell_type": "markdown",
      "metadata": {
        "id": "r5bP6NvqOZ0J"
      },
      "source": [
        "## 5 Derivation of the logistic regression gradient (Optional, covered in tutorial)"
      ]
    },
    {
      "cell_type": "markdown",
      "metadata": {
        "id": "t9rnDvBjQSQF"
      },
      "source": [
        "\n",
        "\n",
        "Here we derive the gradient of the cost function in logistic regression, i.e., $\\nabla_{\\theta} L(\\theta)$, step by step. To recap, the cost function $L(\\theta)$, is as follows:\n",
        "$$\n",
        "L(\\theta) = - \\frac{1}{m} \\sum_i^m \\left(y^{(i)} \\log( h_\\theta(x^{(i)}) ) + (1 - y^{(i)}) \\log( 1 - h_\\theta(x^{(i)}) ) \\right).\n",
        "$$\n",
        "\n",
        "Before we calculate the gradient $\\nabla_{\\theta} L(\\theta)$, we first calculate the gradient of the sigmoid function $g(z)$, which will be very useful in our derivation. The gradient of the sigmoid function $\\nabla_{z} g(z)$ is as follows. \n",
        "$$\n",
        "\\nabla_{z} g(z) = \\nabla_{z} \\frac{1}{1 + \\exp^{-z}} = \\frac{\\exp(z)}{(1 + \\exp^{-z})^2} = \\frac{1}{1 + \\exp^{-z}} \\cdot (1 - \\frac{1}{1 + \\exp^{-z}}) = g(z) (1 - g(z))\n",
        "$$\n",
        "\n",
        "So, we find that $\\nabla_{z} g(z) = g(z) (1 - g(z))$. This is a very useful property of the sigmoid function, which will facilitate us a lot in the derivation of  $\\nabla_{\\theta} L(\\theta)$. "
      ]
    },
    {
      "cell_type": "markdown",
      "metadata": {
        "id": "ypGTjNbdaSuT"
      },
      "source": [
        "Now, we derivate the gradient $\\nabla_{\\theta} L(\\theta)$ by calculating its $i$-th element, i.e., the gradient of $L(\\theta)$ with respect to $\\theta_i$, as follows:\n",
        "\n",
        "(Note that $h_{\\theta}(x^{(j)}) = g(\\theta^{\\top} x^{(j)})$)\n",
        "\n",
        "$$\n",
        "\\begin{eqnarray*} \n",
        "\\frac {\\partial L(\\theta)}{\\partial \\theta_i} &=&- \\frac 1 m \\sum_{j=1}^m y^{(j)} \\frac{1}{g(\\theta^{\\top} x^{(j)})}g(\\theta^{\\top} x^{(j)})(1-g(\\theta^{\\top} x^{(j)}))x_i^{(j)}+(1-y^{(j)})\\frac{-1}{1-g(\\theta^{\\top} x^{(j)})}g(\\theta^{\\top} x^{(j)})(1-g(\\theta^{\\top} x^{(j)}))x_i^{(j)} \\\\ \n",
        "&=& - \\frac 1 m \\sum_{j=1}^m y^{(j)}(1-g(\\theta^{\\top} x^{(j)}))x_i^{(j)}+(y^{(j)}-1)g(\\theta^{\\top} x^{(j)})x_i^{(j)} \\\\ \n",
        "&=& \\frac 1 m \\sum_{j=1}^m (g(\\theta^{\\top} x^{(j)}) - y^{(j)})x_i^{(j)} \n",
        "\\end{eqnarray*}\n",
        "$$\n",
        "\n",
        "If we write the following equation in vectorized form, then it's a lot simpler.  We have:\n",
        "$$\n",
        "\\frac {\\partial L(\\theta)}{\\partial \\theta_i} = \\frac 1 m (g(\\theta^{\\top} \\mathbf{X}) - y)^{\\top} \\mathbf{X}_{:i}\n",
        "$$\n",
        "where $\\mathbf{X}_{:i}$ represents the $i$-th column of $\\mathbf{X}$ (an $m$ dimensional column vector). Finally, based on the above equation, we could write $\\nabla_{\\theta} L(\\theta)$ in the vectorized form, as follows:\n",
        "\n",
        "$$\n",
        "\\begin{eqnarray*} \n",
        "\\nabla_{\\theta} L(\\theta) & = & \\frac 1 m \\mathbf{X}^{\\top} (g(\\theta^{\\top} \\mathbf{x}) - y) \\\\\n",
        "& = & \\frac 1 m \\mathbf{x}^{\\top} (h_{\\theta}(\\mathbf{x}) - y)\n",
        "\\end{eqnarray*}\n",
        "$$"
      ]
    },
    {
      "cell_type": "markdown",
      "metadata": {
        "id": "xdKAJqLxepU6"
      },
      "source": [
        "---\n",
        "# Credits"
      ]
    },
    {
      "cell_type": "markdown",
      "metadata": {
        "id": "PZRECVfZ62yD"
      },
      "source": [
        "\n",
        "Authored by Theivendiram Pranavan, Yip Ji Keong, Alvin; Mohammad Neamul Kabir; [Liangming Pan](http://www.liangmingpan.com/), [Min-Yen Kan](http://www.comp.nus.edu.sg/~kanmy) and Liu Yingnan (2019, 2020, 2021), affiliated with [WING](http://wing.comp.nus.edu.sg), [NUS School of Computing](http://www.comp.nus.edu.sg) and [ALSET](http://www.nus.edu.sg/alset). Inspired in part by Andrew Ng's Coursera course and Yaser S. Abu-Mostafa's Caltech course.\n",
        "Licensed as: [Creative Commons Attribution 4.0 International](https://creativecommons.org/licenses/by/4.0/ ) (CC BY 4.0).\n",
        "Please retain and add to this credits cell if using this material as a whole or in part.   Credits for photos given in their captions."
      ]
    }
  ]
}